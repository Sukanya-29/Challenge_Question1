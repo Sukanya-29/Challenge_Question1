{
  "nbformat": 4,
  "nbformat_minor": 0,
  "metadata": {
    "colab": {
      "provenance": [],
      "authorship_tag": "ABX9TyMkUE8oLL2P0KA0YRuZlOD/",
      "include_colab_link": true
    },
    "kernelspec": {
      "name": "python3",
      "display_name": "Python 3"
    },
    "language_info": {
      "name": "python"
    }
  },
  "cells": [
    {
      "cell_type": "markdown",
      "metadata": {
        "id": "view-in-github",
        "colab_type": "text"
      },
      "source": [
        "<a href=\"https://colab.research.google.com/github/Sukanya-29/Challenge_Question1/blob/main/Challenge_question1.ipynb\" target=\"_parent\"><img src=\"https://colab.research.google.com/assets/colab-badge.svg\" alt=\"Open In Colab\"/></a>"
      ]
    },
    {
      "cell_type": "markdown",
      "source": [
        "# **CHALLENGE QUESTION 1**"
      ],
      "metadata": {
        "id": "KiD_KgBdkuG3"
      }
    },
    {
      "cell_type": "markdown",
      "source": [
        "## **Write a python program to sort the list of heterogeneous data.**\n",
        "**e.g.**\n",
        "\n",
        "**L = [\"Ram\", 1, \"Shyam\", 2, \"Aman\", 3]**\n",
        "\n",
        "**print(L)**\n",
        "\n",
        "**L.sort()**\n",
        "\n",
        "**print(L)**\n",
        "\n",
        "## **#Above code gives error. Correct it.**"
      ],
      "metadata": {
        "id": "LBZCTQW9lCD3"
      }
    },
    {
      "cell_type": "code",
      "execution_count": 1,
      "metadata": {
        "colab": {
          "base_uri": "https://localhost:8080/"
        },
        "id": "TAdlmYhjksGG",
        "outputId": "cb088deb-fe2b-4d40-b54a-fd3119de9c8a"
      },
      "outputs": [
        {
          "output_type": "stream",
          "name": "stdout",
          "text": [
            "['Ram', '1', 'Shyam', '2', 'Aman', '3']\n",
            "['1', '2', '3', 'Aman', 'Ram', 'Shyam']\n"
          ]
        }
      ],
      "source": [
        "L = [\"Ram\", '1', \"Shyam\", '2', \"Aman\", '3']\n",
        "print(L)\n",
        "L.sort()\n",
        "print(L)"
      ]
    },
    {
      "cell_type": "code",
      "source": [
        "#Alternative method: Separate by Type and Sort Individually\n",
        "\n",
        "L = [\"Ram\", 1, \"Shyam\", 2, \"Aman\", 3]\n",
        "print(L)\n",
        "\n",
        "# Separate integers and strings\n",
        "numbers = sorted([x for x in L if isinstance(x, int)])\n",
        "strings = sorted([x for x in L if isinstance(x, str)])\n",
        "\n",
        "# Combine them\n",
        "sorted_L = numbers + strings\n",
        "print(sorted_L)\n"
      ],
      "metadata": {
        "colab": {
          "base_uri": "https://localhost:8080/"
        },
        "id": "74Wxwi1ZoYAF",
        "outputId": "b1d7dfeb-affa-4c68-fb40-f7286266e057"
      },
      "execution_count": 6,
      "outputs": [
        {
          "output_type": "stream",
          "name": "stdout",
          "text": [
            "['Ram', 1, 'Shyam', 2, 'Aman', 3]\n",
            "[1, 2, 3, 'Aman', 'Ram', 'Shyam']\n"
          ]
        }
      ]
    }
  ]
}